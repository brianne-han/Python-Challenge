{
 "cells": [
  {
   "cell_type": "code",
   "execution_count": 1,
   "metadata": {},
   "outputs": [],
   "source": [
    "# import modules and csv file\n",
    "import os\n",
    "import csv"
   ]
  },
  {
   "cell_type": "code",
   "execution_count": 2,
   "metadata": {},
   "outputs": [],
   "source": [
    "# set file path\n",
    "csvpath = os.path.join('Resources', 'budget_data.csv')"
   ]
  },
  {
   "cell_type": "code",
   "execution_count": 3,
   "metadata": {},
   "outputs": [],
   "source": [
    "# open csv reader\n",
    "with open(csvpath) as budgetfile:\n",
    "    csvreader = csv.reader(budgetfile,delimiter = ',')\n",
    "    #print(csvreader)\n",
    "\n",
    "    # read header row\n",
    "    csv_header = next(csvreader)\n",
    "    #print(f\"Header: {csv_header}\")\n",
    "\n",
    "    # assign values to variables\n",
    "    total_months = 0\n",
    "    total_profit = 0\n",
    "    changed_value = 0\n",
    "    last_value = 0\n",
    "    prof_changed = []\n",
    "    first_row = True\n",
    "    date = []\n",
    "    \n",
    "    \n",
    "    # loop through each row after the header\n",
    "    for row in csvreader:\n",
    "        date.append(row[0])\n",
    "        #print(row)\n",
    "       \n",
    "       # count the total number of months\n",
    "        total_months+=1\n",
    "       # calculate total profit/loss amount\n",
    "        total_profit+= int(row[1])\n",
    "        # calculate changes in profits & losses\n",
    "        if first_row:\n",
    "            changed_value = 0\n",
    "            first_row = False\n",
    "        else:\n",
    "            changed_value = int(row[1]) - last_value\n",
    "        prof_changed.append(changed_value)\n",
    "        last_value = int(row[1])\n",
    "    total_change = sum(prof_changed)\n",
    "\n",
    "    # average the changes\n",
    "    avg_change = round(total_change/total_months, 2)\n",
    "\n",
    "    # calculate greatest increase in prof over the entire period\n",
    "    greatest_prof_inc = max(prof_changed)\n",
    "    # calculate greatest decrease in prof\n",
    "    greatest_prof_dec = min(prof_changed)\n",
    "    # date for greatest increase\n",
    "    greatest_inc_prof_change_date = str(date[prof_changed.index(max(prof_changed))])\n",
    "    # date for greatest decrease\n",
    "    greatest_dec_prof_change_date = str(date[prof_changed.index(min(prof_changed))])"
   ]
  },
  {
   "cell_type": "code",
   "execution_count": 4,
   "metadata": {},
   "outputs": [],
   "source": [
    "# specify the file to write to\n",
    "output_file = os.path.join(\"Analysis\", \"results.txt\")\n",
    "# open the file using write mode\n",
    "with open(output_file, 'w') as file:\n",
    "    file.write(\"Financial Analysis\")\n",
    "    file.write(\"\\n\")\n",
    "    file.write(\"----------------------\")\n",
    "    file.write(\"\\n\")\n",
    "    file.write(f\"Total Months: {total_months}\")\n",
    "    file.write(\"\\n\")\n",
    "    file.write(f\"Total: ${total_profit}\")\n",
    "    file.write(\"\\n\")\n",
    "    file.write(f\"Average Change: ${avg_change}\")\n",
    "    file.write(\"\\n\")\n",
    "    file.write(f\"Greatest Increase in Profits: {greatest_inc_prof_change_date} (${greatest_prof_inc})\")\n",
    "    file.write(\"\\n\")\n",
    "    file.write(f\"Greatest Decrease in Profits: {greatest_dec_prof_change_date} (${greatest_prof_dec})\")"
   ]
  },
  {
   "cell_type": "code",
   "execution_count": 5,
   "metadata": {},
   "outputs": [
    {
     "name": "stdout",
     "output_type": "stream",
     "text": [
      "Financial Analysis\n",
      "---------------------\n",
      "Total Months: 86\n",
      "Total: $22564198\n",
      "Average Change: $-8214.47\n",
      "Greatest Increase in Profits: Aug-16 ($1862002)\n",
      "Greatest Decrease in Profits: Feb-14 ($-1825558)\n"
     ]
    }
   ],
   "source": [
    "# print the results\n",
    "print(\"Financial Analysis\")\n",
    "print(\"---------------------\")\n",
    "print(f\"Total Months: {total_months}\")\n",
    "print(f\"Total: ${total_profit}\")\n",
    "print(f\"Average Change: ${avg_change}\")\n",
    "print(f\"Greatest Increase in Profits: {greatest_inc_prof_change_date} (${greatest_prof_inc})\")\n",
    "print(f\"Greatest Decrease in Profits: {greatest_dec_prof_change_date} (${greatest_prof_dec})\")"
   ]
  },
  {
   "cell_type": "code",
   "execution_count": 179,
   "metadata": {},
   "outputs": [
    {
     "data": {
      "text/plain": [
       "86"
      ]
     },
     "execution_count": 179,
     "metadata": {},
     "output_type": "execute_result"
    }
   ],
   "source": [
    "total_months"
   ]
  },
  {
   "cell_type": "code",
   "execution_count": 210,
   "metadata": {},
   "outputs": [
    {
     "data": {
      "text/plain": [
       "22564198"
      ]
     },
     "execution_count": 210,
     "metadata": {},
     "output_type": "execute_result"
    }
   ],
   "source": [
    "total_profit"
   ]
  },
  {
   "cell_type": "code",
   "execution_count": 218,
   "metadata": {},
   "outputs": [
    {
     "data": {
      "text/plain": [
       "-8215.47"
      ]
     },
     "execution_count": 218,
     "metadata": {},
     "output_type": "execute_result"
    }
   ],
   "source": [
    "avg_change"
   ]
  },
  {
   "cell_type": "code",
   "execution_count": 227,
   "metadata": {},
   "outputs": [
    {
     "data": {
      "text/plain": [
       "1862002"
      ]
     },
     "execution_count": 227,
     "metadata": {},
     "output_type": "execute_result"
    }
   ],
   "source": [
    "greatest_prof_inc"
   ]
  },
  {
   "cell_type": "code",
   "execution_count": 229,
   "metadata": {},
   "outputs": [
    {
     "data": {
      "text/plain": [
       "-1825558"
      ]
     },
     "execution_count": 229,
     "metadata": {},
     "output_type": "execute_result"
    }
   ],
   "source": [
    "greatest_prof_dec"
   ]
  },
  {
   "cell_type": "code",
   "execution_count": 236,
   "metadata": {},
   "outputs": [
    {
     "data": {
      "text/plain": [
       "'Aug-16'"
      ]
     },
     "execution_count": 236,
     "metadata": {},
     "output_type": "execute_result"
    }
   ],
   "source": [
    "greatest_inc_prof_change_date"
   ]
  },
  {
   "cell_type": "code",
   "execution_count": 238,
   "metadata": {},
   "outputs": [
    {
     "data": {
      "text/plain": [
       "'Feb-14'"
      ]
     },
     "execution_count": 238,
     "metadata": {},
     "output_type": "execute_result"
    }
   ],
   "source": [
    "greatest_dec_prof_change_date"
   ]
  }
 ],
 "metadata": {
  "kernelspec": {
   "display_name": "base",
   "language": "python",
   "name": "python3"
  },
  "language_info": {
   "codemirror_mode": {
    "name": "ipython",
    "version": 3
   },
   "file_extension": ".py",
   "mimetype": "text/x-python",
   "name": "python",
   "nbconvert_exporter": "python",
   "pygments_lexer": "ipython3",
   "version": "3.11.5"
  },
  "orig_nbformat": 4
 },
 "nbformat": 4,
 "nbformat_minor": 2
}
