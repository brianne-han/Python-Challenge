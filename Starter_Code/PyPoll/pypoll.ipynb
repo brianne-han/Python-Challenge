{
 "cells": [
  {
   "cell_type": "code",
   "execution_count": 1,
   "metadata": {},
   "outputs": [],
   "source": [
    "import os\n",
    "import csv"
   ]
  },
  {
   "cell_type": "code",
   "execution_count": 9,
   "metadata": {},
   "outputs": [],
   "source": [
    "csvpath = os.path.join('Resources', 'election_data.csv')"
   ]
  },
  {
   "cell_type": "code",
   "execution_count": 11,
   "metadata": {},
   "outputs": [
    {
     "name": "stdout",
     "output_type": "stream",
     "text": [
      "<_csv.reader object at 0x111396b20>\n",
      "Header: ['Ballot ID', 'County', 'Candidate']\n"
     ]
    }
   ],
   "source": [
    "with open(csvpath) as electionfile:\n",
    "    csvreader = csv.reader(electionfile)\n",
    "    print(csvreader)\n",
    "\n",
    "    csv_header = next(csvreader)\n",
    "    print(f\"Header: {csv_header}\")\n",
    "\n",
    "    #for row in csvreader:\n",
    "        #print(row)"
   ]
  }
 ],
 "metadata": {
  "kernelspec": {
   "display_name": "base",
   "language": "python",
   "name": "python3"
  },
  "language_info": {
   "codemirror_mode": {
    "name": "ipython",
    "version": 3
   },
   "file_extension": ".py",
   "mimetype": "text/x-python",
   "name": "python",
   "nbconvert_exporter": "python",
   "pygments_lexer": "ipython3",
   "version": "3.11.5"
  },
  "orig_nbformat": 4
 },
 "nbformat": 4,
 "nbformat_minor": 2
}
