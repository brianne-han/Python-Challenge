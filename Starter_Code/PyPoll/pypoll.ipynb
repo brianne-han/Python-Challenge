{
 "cells": [
  {
   "cell_type": "code",
   "execution_count": 2,
   "metadata": {},
   "outputs": [],
   "source": [
    "# import modules and csv file\n",
    "import os\n",
    "import csv"
   ]
  },
  {
   "cell_type": "code",
   "execution_count": 3,
   "metadata": {},
   "outputs": [],
   "source": [
    "# set file path\n",
    "csvpath = os.path.join('Resources', 'election_data.csv')"
   ]
  },
  {
   "cell_type": "code",
   "execution_count": 4,
   "metadata": {},
   "outputs": [],
   "source": [
    "# open csv reader\n",
    "with open(csvpath) as electionfile:\n",
    "    csvreader = csv.reader(electionfile)\n",
    "    #print(csvreader)\n",
    "\n",
    "    # read header row\n",
    "    csv_header = next(csvreader)\n",
    "    #print(f\"Header: {csv_header}\")\n",
    "\n",
    "    # assign values to variables\n",
    "    total_votes = 0\n",
    "    candidates = []\n",
    "    num_votes = []\n",
    "    percent_votes = []\n",
    "    \n",
    "    # loop through all the rows after the header\n",
    "    for row in csvreader:\n",
    "        # calculate total votes\n",
    "        total_votes +=1\n",
    "        # get the name of the candidates\n",
    "        if row[2] not in candidates:\n",
    "            candidates.append(row[2])\n",
    "            index = candidates.index(row[2])\n",
    "            num_votes.append(1)\n",
    "        else:\n",
    "            index = candidates.index(row[2])\n",
    "            num_votes[index] += 1\n",
    "\n",
    "    # calculate percentage\n",
    "    for votes in num_votes:\n",
    "        percentage = float(votes)/float(total_votes) * 100\n",
    "        percentage = \"%.3f%%\" % percentage\n",
    "        percent_votes.append(percentage)\n",
    "\n",
    "    # calculate winning candidate results\n",
    "    winner = max(num_votes)\n",
    "    index = num_votes.index(winner)\n",
    "    winning_candidate = candidates[index]"
   ]
  },
  {
   "cell_type": "code",
   "execution_count": 26,
   "metadata": {},
   "outputs": [],
   "source": [
    "# specify the file to write to\n",
    "output_file = os.path.join(\"Analysis\", \"results.txt\")\n",
    "# open the file using write mode\n",
    "with open(output_file, 'w') as file:\n",
    "    file.write(\"Election Results\")\n",
    "    file.write(\"\\n\")\n",
    "    file.write(\"----------------------\")\n",
    "    file.write(\"\\n\")\n",
    "    file.write(f\"Total Votes: {total_votes}\")\n",
    "    file.write(\"\\n\")\n",
    "    file.write(\"-----------------------\")\n",
    "    file.write(\"\\n\")\n",
    "    for i in range(len(candidates)):\n",
    "        file.write(f\"{candidates[i]}: {str(percent_votes[i])} ({str(num_votes[i])}) \\n\")\n",
    "    file.write(\"-----------------------\")\n",
    "    file.write(\"\\n\")\n",
    "    file.write(f\"Winner: {winning_candidate}\")\n",
    "    file.write(\"\\n\")\n",
    "    file.write(\"-----------------------\")"
   ]
  },
  {
   "cell_type": "code",
   "execution_count": 21,
   "metadata": {},
   "outputs": [
    {
     "name": "stdout",
     "output_type": "stream",
     "text": [
      "Election Results\n",
      "-----------------------\n",
      "Total Votes: 369711\n",
      "-----------------------\n",
      "Charles Casper Stockham: 23.049% (85213)\n",
      "Diana DeGette: 73.812% (272892)\n",
      "Raymon Anthony Doane: 3.139% (11606)\n",
      "-----------------------\n",
      "Winner: Diana DeGette\n",
      "-----------------------\n"
     ]
    }
   ],
   "source": [
    "# print the results\n",
    "print(\"Election Results\")\n",
    "print(\"-----------------------\")\n",
    "print(f\"Total Votes: {total_votes}\")\n",
    "print(\"-----------------------\")\n",
    "for i in range(len(candidates)):\n",
    "    print(f\"{candidates[i]}: {str(percent_votes[i])} ({str(num_votes[i])})\")\n",
    "print(\"-----------------------\")\n",
    "print(f\"Winner: {winning_candidate}\")\n",
    "print(\"-----------------------\")"
   ]
  },
  {
   "cell_type": "code",
   "execution_count": 64,
   "metadata": {},
   "outputs": [
    {
     "data": {
      "text/plain": [
       "369711"
      ]
     },
     "execution_count": 64,
     "metadata": {},
     "output_type": "execute_result"
    }
   ],
   "source": [
    "total_votes"
   ]
  },
  {
   "cell_type": "code",
   "execution_count": 6,
   "metadata": {},
   "outputs": [
    {
     "data": {
      "text/plain": [
       "['Charles Casper Stockham', 'Diana DeGette', 'Raymon Anthony Doane']"
      ]
     },
     "execution_count": 6,
     "metadata": {},
     "output_type": "execute_result"
    }
   ],
   "source": [
    "candidates"
   ]
  },
  {
   "cell_type": "code",
   "execution_count": 7,
   "metadata": {},
   "outputs": [
    {
     "data": {
      "text/plain": [
       "272892"
      ]
     },
     "execution_count": 7,
     "metadata": {},
     "output_type": "execute_result"
    }
   ],
   "source": [
    "winner"
   ]
  },
  {
   "cell_type": "code",
   "execution_count": 8,
   "metadata": {},
   "outputs": [
    {
     "data": {
      "text/plain": [
       "'Diana DeGette'"
      ]
     },
     "execution_count": 8,
     "metadata": {},
     "output_type": "execute_result"
    }
   ],
   "source": [
    "winning_candidate"
   ]
  }
 ],
 "metadata": {
  "kernelspec": {
   "display_name": "base",
   "language": "python",
   "name": "python3"
  },
  "language_info": {
   "codemirror_mode": {
    "name": "ipython",
    "version": 3
   },
   "file_extension": ".py",
   "mimetype": "text/x-python",
   "name": "python",
   "nbconvert_exporter": "python",
   "pygments_lexer": "ipython3",
   "version": "3.11.5"
  },
  "orig_nbformat": 4
 },
 "nbformat": 4,
 "nbformat_minor": 2
}
