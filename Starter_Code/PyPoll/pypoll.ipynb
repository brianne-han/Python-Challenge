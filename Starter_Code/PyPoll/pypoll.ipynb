{
 "cells": [
  {
   "cell_type": "code",
   "execution_count": 61,
   "metadata": {},
   "outputs": [],
   "source": [
    "# import modules and csv file\n",
    "import os\n",
    "import csv"
   ]
  },
  {
   "cell_type": "code",
   "execution_count": 62,
   "metadata": {},
   "outputs": [],
   "source": [
    "# set file path\n",
    "csvpath = os.path.join('Resources', 'election_data.csv')"
   ]
  },
  {
   "cell_type": "code",
   "execution_count": 74,
   "metadata": {},
   "outputs": [],
   "source": [
    "# open csv reader\n",
    "with open(csvpath) as electionfile:\n",
    "    csvreader = csv.reader(electionfile)\n",
    "    #print(csvreader)\n",
    "\n",
    "    # read header row\n",
    "    csv_header = next(csvreader)\n",
    "    #print(f\"Header: {csv_header}\")\n",
    "\n",
    "    # assign values to variables\n",
    "    total_votes = 0\n",
    "    candidates = []\n",
    "    candidates_votes = {}\n",
    "    winner = \"\"\n",
    "    max_votes = 0\n",
    "\n",
    "    winning_candidate = \"\"\n",
    "    winning_count = 0\n",
    "    winning_percent = 0\n",
    "    \n",
    "\n",
    "    # loop through all the rows after the header\n",
    "    for row in csvreader:\n",
    "        # calculate total votes\n",
    "        total_votes +=1\n",
    "        # get the name of the candidates\n",
    "        candidates_names = row[2]\n",
    "        # add other candidates' names to candidates list\n",
    "        if candidates_names not in candidates:\n",
    "            candidates.append(candidates_names)\n",
    "            # count candidates votes\n",
    "            candidates_votes[candidates_names] = 0\n",
    "        # add the votes to count\n",
    "        candidates_votes[candidates_names] +=1\n",
    "\n",
    "    for candidates in candidates_names:\n",
    "        votes = candidates_votes[candidates_names]\n",
    "        percentage = float(votes)/float(total_votes) *100\n",
    "        candidate_results = (f\"{candidates_names}: {percentage:.3f}% ({votes})\")\n",
    "\n",
    "        if (votes > winning_count) and (percentage > winning_percent):\n",
    "            winning_count = votes\n",
    "            winning_candidate = candidates_names\n",
    "            winning_percent = percentage\n",
    "\n"
   ]
  },
  {
   "cell_type": "code",
   "execution_count": 78,
   "metadata": {},
   "outputs": [
    {
     "data": {
      "text/plain": [
       "'Raymon Anthony Doane'"
      ]
     },
     "execution_count": 78,
     "metadata": {},
     "output_type": "execute_result"
    }
   ],
   "source": [
    "winning_candidate"
   ]
  },
  {
   "cell_type": "code",
   "execution_count": 64,
   "metadata": {},
   "outputs": [
    {
     "data": {
      "text/plain": [
       "369711"
      ]
     },
     "execution_count": 64,
     "metadata": {},
     "output_type": "execute_result"
    }
   ],
   "source": [
    "total_votes"
   ]
  },
  {
   "cell_type": "code",
   "execution_count": 68,
   "metadata": {},
   "outputs": [
    {
     "data": {
      "text/plain": [
       "'Raymon Anthony Doane'"
      ]
     },
     "execution_count": 68,
     "metadata": {},
     "output_type": "execute_result"
    }
   ],
   "source": [
    "candidates_names"
   ]
  },
  {
   "cell_type": "code",
   "execution_count": 69,
   "metadata": {},
   "outputs": [
    {
     "data": {
      "text/plain": [
       "['Charles Casper Stockham', 'Diana DeGette', 'Raymon Anthony Doane']"
      ]
     },
     "execution_count": 69,
     "metadata": {},
     "output_type": "execute_result"
    }
   ],
   "source": [
    "candidates"
   ]
  },
  {
   "cell_type": "code",
   "execution_count": 42,
   "metadata": {},
   "outputs": [
    {
     "data": {
      "text/plain": [
       "{'Charles Casper Stockham': 85213,\n",
       " 'Diana DeGette': 272892,\n",
       " 'Raymon Anthony Doane': 11606}"
      ]
     },
     "execution_count": 42,
     "metadata": {},
     "output_type": "execute_result"
    }
   ],
   "source": [
    "candidates_votes"
   ]
  },
  {
   "cell_type": "code",
   "execution_count": 73,
   "metadata": {},
   "outputs": [
    {
     "data": {
      "text/plain": [
       "'Raymon Anthony Doane: 3.139% (11606)'"
      ]
     },
     "execution_count": 73,
     "metadata": {},
     "output_type": "execute_result"
    }
   ],
   "source": [
    "candidate_results"
   ]
  },
  {
   "cell_type": "code",
   "execution_count": 51,
   "metadata": {},
   "outputs": [
    {
     "data": {
      "text/plain": [
       "11606"
      ]
     },
     "execution_count": 51,
     "metadata": {},
     "output_type": "execute_result"
    }
   ],
   "source": [
    "votes"
   ]
  }
 ],
 "metadata": {
  "kernelspec": {
   "display_name": "base",
   "language": "python",
   "name": "python3"
  },
  "language_info": {
   "codemirror_mode": {
    "name": "ipython",
    "version": 3
   },
   "file_extension": ".py",
   "mimetype": "text/x-python",
   "name": "python",
   "nbconvert_exporter": "python",
   "pygments_lexer": "ipython3",
   "version": "3.11.5"
  },
  "orig_nbformat": 4
 },
 "nbformat": 4,
 "nbformat_minor": 2
}
